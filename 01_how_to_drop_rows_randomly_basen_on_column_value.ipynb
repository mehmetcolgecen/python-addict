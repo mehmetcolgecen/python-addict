{
  "nbformat": 4,
  "nbformat_minor": 0,
  "metadata": {
    "colab": {
      "name": "Pandas how to drop raws randomly basen on column value.ipynb",
      "provenance": [],
      "authorship_tag": "ABX9TyM7Jamj2RnuaciwR3GSXNgn",
      "include_colab_link": true
    },
    "kernelspec": {
      "name": "python3",
      "display_name": "Python 3"
    }
  },
  "cells": [
    {
      "cell_type": "markdown",
      "metadata": {
        "id": "view-in-github",
        "colab_type": "text"
      },
      "source": [
        "<a href=\"https://colab.research.google.com/github/mehmetcolgecen/python-addict/blob/main/01_how_to_drop_rows_randomly_basen_on_column_value.ipynb\" target=\"_parent\"><img src=\"https://colab.research.google.com/assets/colab-badge.svg\" alt=\"Open In Colab\"/></a>"
      ]
    },
    {
      "cell_type": "code",
      "metadata": {
        "colab": {
          "base_uri": "https://localhost:8080/",
          "height": 110
        },
        "id": "-J0ZBxgtAPFa",
        "outputId": "3e2a96d8-0802-44d6-8471-b86d21b0b8b2"
      },
      "source": [
        "import pandas as pd\r\n",
        "import numpy as np\r\n",
        "np.random.seed(10)\r\n",
        "\r\n",
        "remove_n = 2\r\n",
        "df = pd.DataFrame({\"a\":[1,2,3,4], \"b\":[5,6,7,8], \"c\":[\"Gen\",\"Gen\",\"Gen\",\"not\"]})\r\n",
        "drop_indices = np.random.choice(df.loc[df[\"c\"]==\"Gen\"].index, remove_n, replace=False)\r\n",
        "df_subset = df.drop(drop_indices)\r\n",
        "df_subset "
      ],
      "execution_count": 1,
      "outputs": [
        {
          "output_type": "execute_result",
          "data": {
            "text/html": [
              "<div>\n",
              "<style scoped>\n",
              "    .dataframe tbody tr th:only-of-type {\n",
              "        vertical-align: middle;\n",
              "    }\n",
              "\n",
              "    .dataframe tbody tr th {\n",
              "        vertical-align: top;\n",
              "    }\n",
              "\n",
              "    .dataframe thead th {\n",
              "        text-align: right;\n",
              "    }\n",
              "</style>\n",
              "<table border=\"1\" class=\"dataframe\">\n",
              "  <thead>\n",
              "    <tr style=\"text-align: right;\">\n",
              "      <th></th>\n",
              "      <th>a</th>\n",
              "      <th>b</th>\n",
              "      <th>c</th>\n",
              "    </tr>\n",
              "  </thead>\n",
              "  <tbody>\n",
              "    <tr>\n",
              "      <th>1</th>\n",
              "      <td>2</td>\n",
              "      <td>6</td>\n",
              "      <td>Gen</td>\n",
              "    </tr>\n",
              "    <tr>\n",
              "      <th>3</th>\n",
              "      <td>4</td>\n",
              "      <td>8</td>\n",
              "      <td>not</td>\n",
              "    </tr>\n",
              "  </tbody>\n",
              "</table>\n",
              "</div>"
            ],
            "text/plain": [
              "   a  b    c\n",
              "1  2  6  Gen\n",
              "3  4  8  not"
            ]
          },
          "metadata": {
            "tags": []
          },
          "execution_count": 1
        }
      ]
    }
  ]
}