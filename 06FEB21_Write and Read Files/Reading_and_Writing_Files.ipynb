{
  "nbformat": 4,
  "nbformat_minor": 0,
  "metadata": {
    "colab": {
      "name": "06FEB21_Reading and Writing_Files.ipynb",
      "provenance": [],
      "authorship_tag": "ABX9TyNQV/PaIba7odYcvTh0GlwM",
      "include_colab_link": true
    },
    "kernelspec": {
      "name": "python3",
      "display_name": "Python 3"
    }
  },
  "cells": [
    {
      "cell_type": "markdown",
      "metadata": {
        "id": "view-in-github",
        "colab_type": "text"
      },
      "source": [
        "<a href=\"https://colab.research.google.com/github/mehmetcolgecen/python-addict/blob/main/06FEB21_Write%20and%20Read%20Files/Reading_and_Writing_Files.ipynb\" target=\"_parent\"><img src=\"https://colab.research.google.com/assets/colab-badge.svg\" alt=\"Open In Colab\"/></a>"
      ]
    },
    {
      "cell_type": "code",
      "metadata": {
        "colab": {
          "base_uri": "https://localhost:8080/"
        },
        "id": "e3I4p1cFFoGU",
        "outputId": "3b0b73be-e8e3-41e4-cff7-863901518b88"
      },
      "source": [
        "with open(\"fishes.txt\", \"r\") as f:\r\n",
        "    print(f.read())"
      ],
      "execution_count": null,
      "outputs": [
        {
          "output_type": "stream",
          "text": [
            "Orca is a kind of Dolphin.\n",
            "Blue Whale is the largest animal known on earth.\n",
            "Sharks are the sister group to the Rays (batoids).\n",
            "The Tuna Fish can weigh up to 260 kg.\n",
            "Squid and Octopus are in the same class.\n"
          ],
          "name": "stdout"
        }
      ]
    },
    {
      "cell_type": "code",
      "metadata": {
        "colab": {
          "base_uri": "https://localhost:8080/"
        },
        "id": "8nkLWF-PJQhl",
        "outputId": "50cd3acd-e429-4c1b-9ed0-3cfc01bfd6fa"
      },
      "source": [
        "with open(\"fishes.txt\", \"r\") as f:\r\n",
        "    print(f.readlines())"
      ],
      "execution_count": null,
      "outputs": [
        {
          "output_type": "stream",
          "text": [
            "['Orca is a kind of Dolphin.\\n', 'Blue Whale is the largest animal known on earth.\\n', 'Sharks are the sister group to the Rays (batoids).\\n', 'The Tuna Fish can weigh up to 260 kg.\\n', 'Squid and Octopus are in the same class.']\n"
          ],
          "name": "stdout"
        }
      ]
    },
    {
      "cell_type": "code",
      "metadata": {
        "colab": {
          "base_uri": "https://localhost:8080/"
        },
        "id": "Cm29WRrZMEv7",
        "outputId": "eb26cebe-93d4-48db-fcde-7dfbfe37ab22"
      },
      "source": [
        "#listede geçen meyveleri bir txt dosyasına alt alta yazdıralım.\r\n",
        "fruits = [\"Banana\", \"Orange\", \"Apple\", \"Strawberry\", \"Cherry\"]\r\n",
        "with open(\"firuits.txt\", \"w\") as f:\r\n",
        "    for i in fruits:\r\n",
        "        f.write(i+\"\\n\")\r\n",
        "with open(\"firuits.txt\", \"r\") as f:\r\n",
        "    print(f.read())\r\n",
        "with open(\"firuits.txt\", \"r\") as f:\r\n",
        "    print(f.readlines())"
      ],
      "execution_count": null,
      "outputs": [
        {
          "output_type": "stream",
          "text": [
            "Banana\n",
            "Orange\n",
            "Apple\n",
            "Strawberry\n",
            "Cherry\n",
            "\n",
            "['Banana\\n', 'Orange\\n', 'Apple\\n', 'Strawberry\\n', 'Cherry\\n']\n"
          ],
          "name": "stdout"
        }
      ]
    },
    {
      "cell_type": "code",
      "metadata": {
        "colab": {
          "base_uri": "https://localhost:8080/"
        },
        "id": "O40YzC6cPfGx",
        "outputId": "afa0c36f-5836-4b05-e780-5c4144ec637c"
      },
      "source": [
        "#writelines --> iterable alır.\r\n",
        "#listede geçen meyveleri bir txt dosyasına alt alta yazdıralım.\r\n",
        "fruits = [\"Banana\\n\", \"Orange\\n\", \"Apple\\n\", \"Strawberry\\n\", \"Cherry\\n\"]\r\n",
        "with open(\"firuits.txt\", \"w\") as f:\r\n",
        "        f.writelines(fruits)\r\n",
        "with open(\"firuits.txt\", \"r\") as f:\r\n",
        "    print(f.read())\r\n",
        "with open(\"firuits.txt\", \"r\") as f:\r\n",
        "    print(f.readlines())"
      ],
      "execution_count": null,
      "outputs": [
        {
          "output_type": "stream",
          "text": [
            "Banana\n",
            "Orange\n",
            "Apple\n",
            "Strawberry\n",
            "Cherry\n",
            "\n",
            "['Banana\\n', 'Orange\\n', 'Apple\\n', 'Strawberry\\n', 'Cherry\\n']\n"
          ],
          "name": "stdout"
        }
      ]
    },
    {
      "cell_type": "code",
      "metadata": {
        "colab": {
          "base_uri": "https://localhost:8080/"
        },
        "id": "AzXH7JGPXdmM",
        "outputId": "09ebe3d2-f637-4b91-de9a-aa0bff755cc9"
      },
      "source": [
        "#append metodu write gibi silme işlemi yapmaz\r\n",
        "#cursorun bulunduğu yerden yazmaya devam eder.\r\n",
        "with open(\"firuits.txt\",\"a\") as f:\r\n",
        "    f.write(\"melon\")\r\n",
        "with open(\"firuits.txt\", \"r\") as f:\r\n",
        "    print(f.read())\r\n",
        "with open(\"firuits.txt\", \"r\") as f:\r\n",
        "    print(f.readlines())  "
      ],
      "execution_count": null,
      "outputs": [
        {
          "output_type": "stream",
          "text": [
            "Banana\n",
            "Orange\n",
            "Apple\n",
            "Strawberry\n",
            "Cherry\n",
            "melon\n",
            "['Banana\\n', 'Orange\\n', 'Apple\\n', 'Strawberry\\n', 'Cherry\\n', 'melon']\n"
          ],
          "name": "stdout"
        }
      ]
    },
    {
      "cell_type": "code",
      "metadata": {
        "colab": {
          "base_uri": "https://localhost:8080/"
        },
        "id": "O9OavmsJZ-zy",
        "outputId": "3b7a5e93-e2ca-4a50-f3cb-815ea464abba"
      },
      "source": [
        "#istiklal marşında her 4 satırda bir enter ekleyelim.\r\n",
        "with open(\"istiklal.txt\", \"r\", encoding = \"utf-8\") as f:\r\n",
        "    ist = f.readlines()\r\n",
        "\r\n",
        "with open(\"istiklal.txt\", \"w\", encoding = \"utf-8\") as f:\r\n",
        "    counter = 0\r\n",
        "    for i in ist:\r\n",
        "        counter += 1\r\n",
        "        if counter % 4 == 0:\r\n",
        "            f.write(i+\"\\n\")\r\n",
        "        else:\r\n",
        "            f.write(i)\r\n",
        "        \r\n",
        "with open(\"istiklal.txt\", \"r\", encoding = \"utf-8\") as f:\r\n",
        "    print(f.read())"
      ],
      "execution_count": null,
      "outputs": [
        {
          "output_type": "stream",
          "text": [
            "Korkma, sönmez bu şafaklarda yüzen al sancak;\n",
            "Sönmeden yurdumun üstünde tüten en son ocak.\n",
            "O benim milletimin yıldızıdır, parlayacak;\n",
            "O benimdir, o benim milletimindir ancak.\n",
            "\n",
            "Çatma, kurban olayım, çehreni ey nazlı hilal!\n",
            "Kahraman ırkıma bir gül! Ne bu şiddet, bu celal?\n",
            "Sana olmaz dökülen kanlarımız sonra helal...\n",
            "Hakkıdır, hakk'a tapan, milletimin istiklal!\n",
            "\n",
            "Ben ezelden beridir hür yaşadım, hür yaşarım.\n",
            "Hangi çılgın bana zincir vuracakmış? Şaşarım!\n",
            "Kükremiş sel gibiyim, bendimi çiğner, aşarım.\n",
            "Yırtarım dağları, enginlere sığmam, taşarım.\n",
            "\n",
            "Garbın afakını sarmışsa çelik zırhlı duvar,\n",
            "Benim iman dolu göğsüm gibi serhaddim var.\n",
            "Ulusun, korkma! Nasıl böyle bir imanı boğar,\n",
            "'Medeniyet!' dediğin tek dişi kalmış canavar?\n",
            "\n",
            "Arkadaş! Yurduma alçakları uğratma, sakın.\n",
            "Siper et gövdeni, dursun bu hayasızca akın.\n",
            "Doğacaktır sana va'dettigi günler hakk'ın...\n",
            "Kim bilir, belki yarın, belki yarından da yakın.\n",
            "\n",
            "Bastığın yerleri 'toprak!' diyerek geçme, tanı:\n",
            "Düşün altında binlerce kefensiz yatanı.\n",
            "Sen şehit oğlusun, incitme, yazıktır, atanı:\n",
            "Verme, dünyaları alsan da, bu cennet vatanı.\n",
            "\n",
            "Kim bu cennet vatanın uğruna olmaz ki feda?\n",
            "Şuheda fışkıracak toprağı sıksan, şuheda!\n",
            "Canı, cananı, bütün varımı alsın da hüda,\n",
            "Etmesin tek vatanımdan beni dünyada cüda.\n",
            "\n",
            "Ruhumun senden, ilahi, şudur ancak emeli:\n",
            "Değmesin mabedimin göğsüne namahrem eli.\n",
            "Bu ezanlar-ki şahadetleri dinin temeli,\n",
            "Ebedi yurdumun üstünde benim inlemeli.\n",
            "\n"
          ],
          "name": "stdout"
        }
      ]
    },
    {
      "cell_type": "code",
      "metadata": {
        "id": "BOlz2fnjcEQ7"
      },
      "source": [
        ""
      ],
      "execution_count": null,
      "outputs": []
    }
  ]
}