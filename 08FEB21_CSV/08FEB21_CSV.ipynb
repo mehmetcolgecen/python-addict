{
  "nbformat": 4,
  "nbformat_minor": 0,
  "metadata": {
    "colab": {
      "name": "08FEB21_CSV.ipynb",
      "provenance": [],
      "authorship_tag": "ABX9TyP3rOwlYX+LTEs4reP/E4uR",
      "include_colab_link": true
    },
    "kernelspec": {
      "name": "python3",
      "display_name": "Python 3"
    }
  },
  "cells": [
    {
      "cell_type": "markdown",
      "metadata": {
        "id": "view-in-github",
        "colab_type": "text"
      },
      "source": [
        "<a href=\"https://colab.research.google.com/github/mehmetcolgecen/python-addict/blob/main/08FEB21_CSV/08FEB21_CSV.ipynb\" target=\"_parent\"><img src=\"https://colab.research.google.com/assets/colab-badge.svg\" alt=\"Open In Colab\"/></a>"
      ]
    },
    {
      "cell_type": "markdown",
      "metadata": {
        "id": "SHBSkzZInWcu"
      },
      "source": [
        "# CSV read"
      ]
    },
    {
      "cell_type": "code",
      "metadata": {
        "colab": {
          "base_uri": "https://localhost:8080/"
        },
        "id": "h5A-dtAvm4vu",
        "outputId": "044d211c-8415-4a39-8d14-bee4337307d0"
      },
      "source": [
        "with open(\"people.csv\",\"r\", encoding=\"utf-8\") as f:\r\n",
        "    print(f.read())"
      ],
      "execution_count": 2,
      "outputs": [
        {
          "output_type": "stream",
          "text": [
            "No,First Name, Last Name, Ages\n",
            "1,Mehmet, Charlie, 34\n",
            "2,Meral, Charlie, 32\n",
            "3,Yusuf, Charlie,6\n",
            "4,Yavuz Selim,Charlie,0\n",
            "5,Bahar,Charlie,0\n",
            "\n"
          ],
          "name": "stdout"
        }
      ]
    },
    {
      "cell_type": "markdown",
      "metadata": {
        "id": "pmNZcmQbnpah"
      },
      "source": [
        "# CSV Module"
      ]
    },
    {
      "cell_type": "code",
      "metadata": {
        "id": "d8gsuc33nSOJ"
      },
      "source": [
        "import csv"
      ],
      "execution_count": 3,
      "outputs": []
    },
    {
      "cell_type": "code",
      "metadata": {
        "colab": {
          "base_uri": "https://localhost:8080/"
        },
        "id": "sTGFfINcnxeL",
        "outputId": "07501e25-eca9-430f-8e64-8b9b6d2e0f2f"
      },
      "source": [
        "with open(\"people.csv\",\"r\", newline=\"\", encoding=\"utf-8\") as file:\r\n",
        "    csv_rows = csv.reader(file, delimiter = \",\")\r\n",
        "    for row in csv_rows:\r\n",
        "        print(row)"
      ],
      "execution_count": 14,
      "outputs": [
        {
          "output_type": "stream",
          "text": [
            "['No', 'First Name', ' Last Name', ' Ages']\n",
            "['1', 'Mehmet', ' Charlie', ' 34']\n",
            "['2', 'Meral', ' Charlie', ' 32']\n",
            "['3', 'Yusuf', ' Charlie', '6']\n",
            "['4', 'Yavuz Selim', 'Charlie', '0']\n",
            "['5', 'Bahar', 'Charlie', '0']\n"
          ],
          "name": "stdout"
        }
      ]
    },
    {
      "cell_type": "markdown",
      "metadata": {
        "id": "xt2WkrafsQ0y"
      },
      "source": [
        "# Delimiteri \",\" yerine CSV'de bulunmayan başka birşey yaparsak satırlar sadece **tek bir** string cümlesinden oluşur."
      ]
    },
    {
      "cell_type": "code",
      "metadata": {
        "colab": {
          "base_uri": "https://localhost:8080/"
        },
        "id": "ibn_332Hoh6i",
        "outputId": "6ee97138-6443-4d4a-95e2-a08b1a6d865d"
      },
      "source": [
        "with open(\"people.csv\",\"r\", newline=\"\", encoding=\"utf-8\") as file:\r\n",
        "    csv_rows = csv.reader(file, delimiter = \";\")\r\n",
        "    for row in csv_rows:\r\n",
        "        print(row)"
      ],
      "execution_count": 17,
      "outputs": [
        {
          "output_type": "stream",
          "text": [
            "['No,First Name, Last Name, Ages']\n",
            "['1,Mehmet, Charlie, 34']\n",
            "['2,Meral, Charlie, 32']\n",
            "['3,Yusuf, Charlie,6']\n",
            "['4,Yavuz Selim,Charlie,0']\n",
            "['5,Bahar,Charlie,0']\n"
          ],
          "name": "stdout"
        }
      ]
    }
  ]
}