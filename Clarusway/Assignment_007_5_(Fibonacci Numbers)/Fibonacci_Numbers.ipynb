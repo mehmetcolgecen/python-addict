{
  "nbformat": 4,
  "nbformat_minor": 0,
  "metadata": {
    "colab": {
      "name": "Fibonacci Numbers.ipynb",
      "provenance": [],
      "authorship_tag": "ABX9TyO9xPUyNd0ehqUE/UtGkiXK",
      "include_colab_link": true
    },
    "kernelspec": {
      "name": "python3",
      "display_name": "Python 3"
    }
  },
  "cells": [
    {
      "cell_type": "markdown",
      "metadata": {
        "id": "view-in-github",
        "colab_type": "text"
      },
      "source": [
        "<a href=\"https://colab.research.google.com/github/mehmetcolgecen/python-addict/blob/main/Clarusway/Assignment_007_5_(Fibonacci%20Numbers)/Fibonacci_Numbers.ipynb\" target=\"_parent\"><img src=\"https://colab.research.google.com/assets/colab-badge.svg\" alt=\"Open In Colab\"/></a>"
      ]
    },
    {
      "cell_type": "markdown",
      "metadata": {
        "id": "efhdoXCnI-fN"
      },
      "source": [
        "**Task :** Create a list consisting of Fibonacci numbers from **1 to 55** using control flow statements.\r\n",
        "\r\n",
        "*fibonacci →  [1, 1, 2, 3, 5, 8, 13, 21, 34, 55]*"
      ]
    },
    {
      "cell_type": "code",
      "metadata": {
        "colab": {
          "base_uri": "https://localhost:8080/"
        },
        "id": "GLAC2AulJMO3",
        "outputId": "0315c7f6-c987-4061-de54-6a81dd3ae121"
      },
      "source": [
        "fib = [1]\r\n",
        "while fib[-1] != 55:\r\n",
        "    fib.append(sum(fib[-2:]))\r\n",
        "\r\n",
        "fib"
      ],
      "execution_count": 24,
      "outputs": [
        {
          "output_type": "execute_result",
          "data": {
            "text/plain": [
              "[1, 1, 2, 3, 5, 8, 13, 21, 34, 55]"
            ]
          },
          "metadata": {
            "tags": []
          },
          "execution_count": 24
        }
      ]
    }
  ]
}