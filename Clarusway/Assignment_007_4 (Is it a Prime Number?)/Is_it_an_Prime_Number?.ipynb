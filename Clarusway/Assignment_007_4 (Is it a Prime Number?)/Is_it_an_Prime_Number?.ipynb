{
  "nbformat": 4,
  "nbformat_minor": 0,
  "metadata": {
    "colab": {
      "name": "Is it an Prime Number?.ipynb",
      "provenance": [],
      "authorship_tag": "ABX9TyOpXFvOAoYpqmPtd+ShFuZr",
      "include_colab_link": true
    },
    "kernelspec": {
      "name": "python3",
      "display_name": "Python 3"
    }
  },
  "cells": [
    {
      "cell_type": "markdown",
      "metadata": {
        "id": "view-in-github",
        "colab_type": "text"
      },
      "source": [
        "<a href=\"https://colab.research.google.com/github/mehmetcolgecen/python-addict/blob/main/Clarusway/Assignment_007_4%20(Is%20it%20a%20Prime%20Number%3F)/Is_it_an_Prime_Number%3F.ipynb\" target=\"_parent\"><img src=\"https://colab.research.google.com/assets/colab-badge.svg\" alt=\"Open In Colab\"/></a>"
      ]
    },
    {
      "cell_type": "markdown",
      "metadata": {
        "id": "PMpFp6l6gaQe"
      },
      "source": [
        "**Task :** Write a program that takes a number from the **user** and prints the result to check if it is a **prime number.**\r\n",
        "\r\n",
        "The examples of the desired output are as follows :\r\n",
        "\r\n",
        "    *    input →  19 ⇉ output : 19 is a prime number\r\n",
        "    *    input →  10 ⇉ output : 10 is not a prime number"
      ]
    },
    {
      "cell_type": "code",
      "metadata": {
        "colab": {
          "base_uri": "https://localhost:8080/"
        },
        "id": "s5fJf-xZgyqW",
        "outputId": "acfdc531-a877-4809-b6bf-535cb81afc3e"
      },
      "source": [
        "#we can do it with the help of map and lambda \r\n",
        "\r\n",
        "num = 14 #int(input(\"Enter a Number\"))\r\n",
        "\r\n",
        "number = map(lambda x: num % x == 0, range(2,num))\r\n",
        "\r\n",
        "if any(number):\r\n",
        "    print(f\"{num} is not a prime number\")\r\n",
        "else:\r\n",
        "    print(f\"{num} is a prime number\")"
      ],
      "execution_count": 11,
      "outputs": [
        {
          "output_type": "stream",
          "text": [
            "14 is not a prime number\n"
          ],
          "name": "stdout"
        }
      ]
    },
    {
      "cell_type": "code",
      "metadata": {
        "colab": {
          "base_uri": "https://localhost:8080/"
        },
        "id": "EXaTj6Wjh34B",
        "outputId": "44053d05-90ac-4cd1-f200-b6bb0a3d4f58"
      },
      "source": [
        "#or we can just use list comprehension\r\n",
        "\r\n",
        "not any([num % i == 0 for i in range(2,num)])"
      ],
      "execution_count": 12,
      "outputs": [
        {
          "output_type": "execute_result",
          "data": {
            "text/plain": [
              "False"
            ]
          },
          "metadata": {
            "tags": []
          },
          "execution_count": 12
        }
      ]
    }
  ]
}