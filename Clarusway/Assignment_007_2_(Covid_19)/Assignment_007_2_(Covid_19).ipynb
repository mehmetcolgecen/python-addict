{
  "nbformat": 4,
  "nbformat_minor": 0,
  "metadata": {
    "colab": {
      "name": "Assignment - 007/2 (Covid-19).ipynb",
      "provenance": [],
      "authorship_tag": "ABX9TyO0LBTjCjUuTgeI1E31pBAp",
      "include_colab_link": true
    },
    "kernelspec": {
      "name": "python3",
      "display_name": "Python 3"
    }
  },
  "cells": [
    {
      "cell_type": "markdown",
      "metadata": {
        "id": "view-in-github",
        "colab_type": "text"
      },
      "source": [
        "<a href=\"https://colab.research.google.com/github/mehmetcolgecen/python-addict/blob/main/Clarusway/Assignment_007_2_(Covid_19)/Assignment_007_2_(Covid_19).ipynb\" target=\"_parent\"><img src=\"https://colab.research.google.com/assets/colab-badge.svg\" alt=\"Open In Colab\"/></a>"
      ]
    },
    {
      "cell_type": "markdown",
      "metadata": {
        "id": "fh1tHbruifuE"
      },
      "source": [
        "Problem :\r\n",
        "\r\n",
        "* Task : Estimating the risk of death from coronavirus. Write a program that;\r\n",
        "\r\n",
        "* Takes \"Yes\" or \"No\" from the user as an answer to the following questions :\r\n",
        "\r\n",
        "  * Are you a cigarette addict older than 75 years old? Variable → age\r\n",
        "\r\n",
        "  * Do you have a severe chronic disease? Variable → chronic\r\n",
        "\r\n",
        "  * Is your immune system too weak? Variable → immune\r\n",
        "\r\n",
        "Set a logical algorithm using boolean logic operators **(and/or)** and use **if-statements** with the given variables in order to print out us a message: \"**You are in risky group**\"(if True ) or \"**You are not in risky group**\" (if False).\r\n"
      ]
    },
    {
      "cell_type": "code",
      "metadata": {
        "colab": {
          "base_uri": "https://localhost:8080/"
        },
        "id": "80iKjaQNjC-F",
        "outputId": "b8e9e1b5-5faa-4821-ca44-e2f1db0061e8"
      },
      "source": [
        "age = input(\"Are you a cigarette addict older than 75 years old? :\").strip().title() == \"Yes\"\r\n",
        "chronic = input(\"Do you have a severe chronic disease?\").strip().title() == \"Yes\"\r\n",
        "immune = input(\"Is your immune system too weak?\").strip().title() == \"Yes\"\r\n",
        "\r\n",
        "if age and chronic and immune:\r\n",
        "  print(\"You are in risky group\")\r\n",
        "else: print(\"You are not in risky group\")"
      ],
      "execution_count": 1,
      "outputs": [
        {
          "output_type": "stream",
          "text": [
            "Are you a cigarette addict older than 75 years old? :yes\n",
            "Do you have a severe chronic disease?yeS\n",
            "Is your immune system too weak?Yes\n",
            "You are in risky group\n"
          ],
          "name": "stdout"
        }
      ]
    },
    {
      "cell_type": "code",
      "metadata": {
        "id": "yxGAsh9SkprI"
      },
      "source": [
        ""
      ],
      "execution_count": null,
      "outputs": []
    }
  ]
}