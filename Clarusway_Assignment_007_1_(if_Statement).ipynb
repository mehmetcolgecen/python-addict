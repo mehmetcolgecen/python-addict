{
  "nbformat": 4,
  "nbformat_minor": 0,
  "metadata": {
    "colab": {
      "name": "Clarusway Assignment - 007/1 (if-Statement).ipynb",
      "provenance": [],
      "authorship_tag": "ABX9TyOUC0YDZDZB1GOeMqiNbgnd",
      "include_colab_link": true
    },
    "kernelspec": {
      "name": "python3",
      "display_name": "Python 3"
    }
  },
  "cells": [
    {
      "cell_type": "markdown",
      "metadata": {
        "id": "view-in-github",
        "colab_type": "text"
      },
      "source": [
        "<a href=\"https://colab.research.google.com/github/mehmetcolgecen/python-addict/blob/main/Clarusway_Assignment_007_1_(if_Statement).ipynb\" target=\"_parent\"><img src=\"https://colab.research.google.com/assets/colab-badge.svg\" alt=\"Open In Colab\"/></a>"
      ]
    },
    {
      "cell_type": "markdown",
      "metadata": {
        "id": "Novk2KeCTdBi"
      },
      "source": [
        "**Task :** Let's say; you left a message in the past that prints a password you need. To see the password you wrote, you need to enter your name and the program should recognize you.\r\n",
        "Write a program that \r\n",
        "\r\n",
        "1. Takes the first name from the user and compares it to yours,\r\n",
        "2. Then if the name the user entered is the same as yours, print out such as : \"Hello, **Joseph**! The password is : W@12\",\r\n",
        "3. If the name the user entered is not the same as yours, print out such as : \"Hello, **Amina**! See you later.\""
      ]
    },
    {
      "cell_type": "code",
      "metadata": {
        "colab": {
          "base_uri": "https://localhost:8080/"
        },
        "id": "RvpC2lZgTDfB",
        "outputId": "bb45f27a-5eb1-4ee9-d767-cb14eea425f7"
      },
      "source": [
        "name = input().strip().title()\r\n",
        "if  name == \"Joseph\":\r\n",
        "  print(f\"Hello, {name}! The password is : W@12\")\r\n",
        "else:\r\n",
        "  print(f\"Hello, {name}! See you later.\")"
      ],
      "execution_count": 3,
      "outputs": [
        {
          "output_type": "stream",
          "text": [
            "Joseph\n",
            "Hello, Joseph! The password is : W@12\n"
          ],
          "name": "stdout"
        }
      ]
    }
  ]
}